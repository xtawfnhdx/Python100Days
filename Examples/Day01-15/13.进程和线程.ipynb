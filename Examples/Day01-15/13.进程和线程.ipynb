{
 "cells": [
  {
   "cell_type": "markdown",
   "metadata": {},
   "source": [
    "## Python 单线程操作"
   ]
  },
  {
   "cell_type": "code",
   "execution_count": 4,
   "metadata": {},
   "outputs": [
    {
     "name": "stdout",
     "output_type": "stream",
     "text": [
      "开始下载文件001.pdf...\n",
      "文件001.pdf下载完成！耗时12秒\n",
      "开始下载歌曲002.MP3...\n",
      "歌曲002.MP3下载完成！耗时5秒\n",
      "总共耗时17.00\n"
     ]
    }
   ],
   "source": [
    "from random import randint\n",
    "from time import time,sleep\n",
    "\n",
    "def download_task(filename):\n",
    "    print(\"开始下载%s...\" % filename )\n",
    "    time_to_download=randint(5,15)\n",
    "    sleep(time_to_download)\n",
    "    print('%s下载完成！耗时%d秒'% (filename,time_to_download))\n",
    "    \n",
    "def main():\n",
    "    start = time()\n",
    "    download_task(\"文件001.pdf\")\n",
    "    download_task(\"歌曲002.MP3\")\n",
    "    end =time()\n",
    "    print('总共耗时%.2f' % (end - start))\n",
    "    \n",
    "if __name__ == '__main__':\n",
    "    main()\n",
    "    "
   ]
  },
  {
   "cell_type": "markdown",
   "metadata": {},
   "source": [
    "## 多线程执行"
   ]
  },
  {
   "cell_type": "code",
   "execution_count": 7,
   "metadata": {},
   "outputs": [
    {
     "name": "stdout",
     "output_type": "stream",
     "text": [
      "总共耗时0.09秒\n"
     ]
    }
   ],
   "source": [
    "from multiprocessing import Process\n",
    "from os import getpid\n",
    "from random import randint\n",
    "from time import time, sleep\n",
    "\n",
    "#执行有问题，放到pycharm里面执行\n",
    "def download_task(filename):\n",
    "    print('启动%s 文件开始下载,进程号[%d]' % (filename, getpid()))\n",
    "    time_to_download = randint(5, 10)\n",
    "    sleep(time_to_download)\n",
    "    print('%s下载完成，耗费了%d秒' % (filename, time_to_download))\n",
    "\n",
    "def main():\n",
    "    start = time()\n",
    "    p1 = Process(target=download_task, args=('文件001.pdf',))\n",
    "    p1.start()\n",
    "    p2 = Process(target=download_task, args=('歌曲002.MP3',))\n",
    "    p2.start()\n",
    "    p1.join()\n",
    "    p2.join()\n",
    "    end = time()\n",
    "    print('总共耗时%.2f秒' % (end - start))\n",
    "\n",
    "\n",
    "if __name__ == '__main__':\n",
    "    main()"
   ]
  }
 ],
 "metadata": {
  "kernelspec": {
   "display_name": "Python 3",
   "language": "python",
   "name": "python3"
  },
  "language_info": {
   "codemirror_mode": {
    "name": "ipython",
    "version": 3
   },
   "file_extension": ".py",
   "mimetype": "text/x-python",
   "name": "python",
   "nbconvert_exporter": "python",
   "pygments_lexer": "ipython3",
   "version": "3.8.5"
  },
  "toc": {
   "base_numbering": 1,
   "nav_menu": {},
   "number_sections": true,
   "sideBar": true,
   "skip_h1_title": false,
   "title_cell": "Table of Contents",
   "title_sidebar": "Contents",
   "toc_cell": false,
   "toc_position": {},
   "toc_section_display": true,
   "toc_window_display": false
  }
 },
 "nbformat": 4,
 "nbformat_minor": 4
}
