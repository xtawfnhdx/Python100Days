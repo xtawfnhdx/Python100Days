{
 "cells": [
  {
   "cell_type": "markdown",
   "metadata": {},
   "source": [
    "### 读写文本\n",
    "\n",
    "使用open函数可以操作文档，使用参数，确认只读  只写 读写 模式"
   ]
  },
  {
   "cell_type": "code",
   "execution_count": 2,
   "metadata": {},
   "outputs": [
    {
     "name": "stdout",
     "output_type": "stream",
     "text": [
      "这是第十一课的测试文档\n"
     ]
    }
   ],
   "source": [
    "def main():\n",
    "    f=open(\"page11.txt\",encoding=\"utf-8\")\n",
    "    print(f.read())\n",
    "    f.close()\n",
    "    \n",
    "if __name__==\"__main__\":\n",
    "    main()"
   ]
  },
  {
   "cell_type": "markdown",
   "metadata": {},
   "source": [
    "直接读取，文件不存在，即会报错，使用try except容错"
   ]
  },
  {
   "cell_type": "code",
   "execution_count": 5,
   "metadata": {},
   "outputs": [
    {
     "name": "stdout",
     "output_type": "stream",
     "text": [
      "文件不存在\n"
     ]
    }
   ],
   "source": [
    "def main():\n",
    "    f=None\n",
    "    try:\n",
    "        f=open(\"abc.txt\",\"r\",encoding=\"utf-8\")\n",
    "        print(f.read())\n",
    "    except FileNotFoundError:\n",
    "        print(\"文件不存在\")\n",
    "    except LookupError:\n",
    "        print(\"文件被锁定\")\n",
    "    except UnicodeDecodeError:\n",
    "        print(\"文件读取解码失败\")\n",
    "    finally:\n",
    "        if f:\n",
    "            f.close()\n",
    "\n",
    "if __name__==\"__main__\":\n",
    "    main()\n",
    "        "
   ]
  },
  {
   "cell_type": "markdown",
   "metadata": {},
   "source": [
    "使用with ，离开对象时，自动释放，类似于C#的using"
   ]
  },
  {
   "cell_type": "code",
   "execution_count": 6,
   "metadata": {},
   "outputs": [
    {
     "name": "stdout",
     "output_type": "stream",
     "text": [
      "文件不存在\n"
     ]
    }
   ],
   "source": [
    "def main():\n",
    "    try:\n",
    "        with open(\"page11.ext\",\"r\",encoding=\"utf-8\") as f:\n",
    "            print(f.read())\n",
    "    except FileNotFoundError:\n",
    "        print(\"文件不存在\")\n",
    "    except LookupError:\n",
    "        print(\"文件被锁定\")\n",
    "    except UnicodeDecodeError:\n",
    "        print(\"文件读取解码失败\")     \n",
    "\n",
    "if __name__==\"__main__\":\n",
    "    main()"
   ]
  },
  {
   "cell_type": "markdown",
   "metadata": {},
   "source": [
    "除了使用文件对象的read方法读取文件之外，还可以使用for-in循环逐行读取或者用readlines方法将文件按行读取到一个列表容器中"
   ]
  },
  {
   "cell_type": "code",
   "execution_count": 14,
   "metadata": {},
   "outputs": [
    {
     "name": "stdout",
     "output_type": "stream",
     "text": [
      "唧唧复唧唧，\n",
      "木兰当户织。\n",
      "不闻机杼声，\n",
      "惟闻女叹息。\n",
      "问女何所思，\n",
      "问女何所忆。\n",
      "女亦无所思，\n",
      "女亦无所忆。\n",
      "昨夜见军帖，\n",
      "可汗大点兵。\n",
      "军书十二卷，\n",
      "卷卷有爷名。\n",
      "阿爷无大儿，\n",
      "木兰无长兄。\n",
      "愿为市鞍马，\n",
      "从此替爷征。\n",
      "----------------------\n",
      "唧唧复唧唧，\n",
      "木兰当户织。\n",
      "不闻机杼声，\n",
      "惟闻女叹息。\n",
      "问女何所思，\n",
      "问女何所忆。\n",
      "女亦无所思，\n",
      "女亦无所忆。\n",
      "昨夜见军帖，\n",
      "可汗大点兵。\n",
      "军书十二卷，\n",
      "卷卷有爷名。\n",
      "阿爷无大儿，\n",
      "木兰无长兄。\n",
      "愿为市鞍马，\n",
      "从此替爷征。----------------------\n",
      "['唧唧复唧唧，\\n', '木兰当户织。\\n', '不闻机杼声，\\n', '惟闻女叹息。\\n', '问女何所思，\\n', '问女何所忆。\\n', '女亦无所思，\\n', '女亦无所忆。\\n', '昨夜见军帖，\\n', '可汗大点兵。\\n', '军书十二卷，\\n', '卷卷有爷名。\\n', '阿爷无大儿，\\n', '木兰无长兄。\\n', '愿为市鞍马，\\n', '从此替爷征。']\n"
     ]
    }
   ],
   "source": [
    "import time\n",
    "\n",
    "def main():\n",
    "    with open(\"page11.txt\",\"r\",encoding=\"utf-8\") as f:\n",
    "        print(f.read())\n",
    "    print(\"----------------------\")\n",
    "    with open(\"page11.txt\",\"r\",encoding=\"utf-8\") as f:\n",
    "        for line in f:\n",
    "            print(line,end=\"\")\n",
    "            time.sleep(0.5)\n",
    "    print(\"----------------------\")\n",
    "    with open(\"page11.txt\",\"r\",encoding=\"utf-8\") as f:\n",
    "        lines=f.readlines()\n",
    "    print(lines)\n",
    "\n",
    "if __name__==\"__main__\":\n",
    "    main()"
   ]
  },
  {
   "cell_type": "code",
   "execution_count": 2,
   "metadata": {},
   "outputs": [
    {
     "name": "stdout",
     "output_type": "stream",
     "text": [
      "操作完成\n"
     ]
    }
   ],
   "source": [
    "def main():\n",
    "    filenames = (\"a.txt\",\"b.txt\",\"c.txt\")\n",
    "    fs_list=[]\n",
    "    try:\n",
    "        for filename in filenames:\n",
    "            fs_list.append(open(filename,\"w\",encoding=\"utf-8\"))\n",
    "        for number in range(1,1000):\n",
    "            if number%5==0:\n",
    "                fs_list[0].write(str(number) + \"\\n\")\n",
    "            elif number%3==0:\n",
    "                fs_list[1].write(str(number) + \"\\n\")\n",
    "            elif number%2==0:\n",
    "                fs_list[2].write(str(number) + \"\\n\")\n",
    "    except IOError as ex:\n",
    "        print(ex)\n",
    "        print(\"写入时错误\")\n",
    "    finally:\n",
    "        for fos in fs_list:\n",
    "            fos.close()\n",
    "    print(\"操作完成\")\n",
    "    \n",
    "if __name__==\"__main__\":\n",
    "    main()"
   ]
  },
  {
   "cell_type": "markdown",
   "metadata": {},
   "source": [
    "### 读写二进制文件"
   ]
  },
  {
   "cell_type": "code",
   "execution_count": 4,
   "metadata": {},
   "outputs": [
    {
     "name": "stdout",
     "output_type": "stream",
     "text": [
      "<class 'bytes'>\n",
      "执行完成\n"
     ]
    }
   ],
   "source": [
    "def main():\n",
    "    try:\n",
    "        with open(\"a.txt\",\"rb\") as fs1:\n",
    "            data=fs1.read()\n",
    "            print(type(data))\n",
    "    except FileNotFoundError as e:\n",
    "        print(e)\n",
    "        print(\"文件没找到\")\n",
    "    except IOError as e:\n",
    "        print(e)\n",
    "        print(\"IO异常\")\n",
    "    print(\"执行完成\")\n",
    "    \n",
    "if __name__==\"__main__\":\n",
    "    main()"
   ]
  },
  {
   "cell_type": "markdown",
   "metadata": {},
   "source": [
    "### 读写JSON文件"
   ]
  },
  {
   "cell_type": "code",
   "execution_count": 8,
   "metadata": {},
   "outputs": [
    {
     "name": "stdout",
     "output_type": "stream",
     "text": [
      "保存数据完成\n"
     ]
    }
   ],
   "source": [
    "import json\n",
    "\n",
    "def main():\n",
    "    mydict={\n",
    "        'name': '张三',\n",
    "        'age': 38,\n",
    "        'qq': 957658,\n",
    "        'friends': ['王大锤', '白元芳'],\n",
    "        'cars': [\n",
    "            {'brand': 'BYD', 'max_speed': 180},\n",
    "            {'brand': 'Audi', 'max_speed': 280},\n",
    "            {'brand': 'Benz', 'max_speed': 320}\n",
    "        ]\n",
    "    }\n",
    "    try:\n",
    "        with open(\"data.json\",\"w\",encoding=\"utf-8\") as fs:\n",
    "            json.dump(mydict,fs)\n",
    "    except IOError as e:\n",
    "        print(e)\n",
    "    print(\"保存数据完成\")\n",
    "    \n",
    "if __name__==\"__main__\":\n",
    "    main()"
   ]
  }
 ],
 "metadata": {
  "kernelspec": {
   "display_name": "Python 3",
   "language": "python",
   "name": "python3"
  },
  "language_info": {
   "codemirror_mode": {
    "name": "ipython",
    "version": 3
   },
   "file_extension": ".py",
   "mimetype": "text/x-python",
   "name": "python",
   "nbconvert_exporter": "python",
   "pygments_lexer": "ipython3",
   "version": "3.8.5"
  },
  "toc": {
   "base_numbering": 1,
   "nav_menu": {},
   "number_sections": true,
   "sideBar": true,
   "skip_h1_title": false,
   "title_cell": "Table of Contents",
   "title_sidebar": "Contents",
   "toc_cell": false,
   "toc_position": {},
   "toc_section_display": true,
   "toc_window_display": false
  }
 },
 "nbformat": 4,
 "nbformat_minor": 4
}
