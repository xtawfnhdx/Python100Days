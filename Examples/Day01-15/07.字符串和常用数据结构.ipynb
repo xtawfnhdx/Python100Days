{
 "cells": [
  {
   "cell_type": "markdown",
   "metadata": {},
   "source": [
    "### 使用字符串"
   ]
  },
  {
   "cell_type": "code",
   "execution_count": 2,
   "metadata": {},
   "outputs": [
    {
     "name": "stdout",
     "output_type": "stream",
     "text": [
      "hello, world! hello, world! \n",
      "hello, \n",
      "world!\n"
     ]
    }
   ],
   "source": [
    "s1 = 'hello, world!'\n",
    "s2 = \"hello, world!\"\n",
    "# 以三个双引号或单引号开头的字符串可以折行\n",
    "s3 = \"\"\"\n",
    "hello, \n",
    "world!\n",
    "\"\"\"\n",
    "print(s1, s2, s3, end='')"
   ]
  },
  {
   "cell_type": "code",
   "execution_count": 9,
   "metadata": {},
   "outputs": [
    {
     "name": "stdout",
     "output_type": "stream",
     "text": [
      "'hello,world!' 'hello,world!'\n",
      "\tabc \n",
      "abc \\abc\n"
     ]
    }
   ],
   "source": [
    "# \\表示转义\n",
    "s1='\\'hello,world!\\''\n",
    "s2=\"\\'hello,world!\\'\"\n",
    "print(s1,s2)\n",
    "print(\"\\tabc\",\"\\nabc\",\"\\\\abc\")"
   ]
  },
  {
   "cell_type": "code",
   "execution_count": 11,
   "metadata": {},
   "outputs": [
    {
     "name": "stdout",
     "output_type": "stream",
     "text": [
      "\\'hello,world!\\' \\'hello,world!\\'\n",
      "\\tabc \\nabc \\\\abc\n"
     ]
    }
   ],
   "source": [
    "# 如果想原样输出，不转义，将字符串前面增加r标识\n",
    "s1=r'\\'hello,world!\\''\n",
    "s2=r\"\\'hello,world!\\'\"\n",
    "print(s1,s2)\n",
    "print(r\"\\tabc\",r\"\\nabc\",r\"\\\\abc\")"
   ]
  },
  {
   "cell_type": "markdown",
   "metadata": {},
   "source": [
    "### 字符串运用"
   ]
  },
  {
   "cell_type": "code",
   "execution_count": 22,
   "metadata": {},
   "outputs": [
    {
     "name": "stdout",
     "output_type": "stream",
     "text": [
      "hellohellohello\n",
      "hellohellohelloworld\n",
      "True\n",
      "False\n",
      "c\n",
      "c12\n",
      "c12345678\n",
      "c2468\n",
      "ac2468\n",
      "87654321cba\n",
      "67\n",
      "\n"
     ]
    }
   ],
   "source": [
    "s1='hello'*3\n",
    "print(s1)\n",
    "s2='world'\n",
    "s1+=s2\n",
    "print(s1)\n",
    "print('ll'in s1)\n",
    "print(\"ab\" in s2)\n",
    "str2=\"abc12345678\"\n",
    "print(str2[2])\n",
    "print(str2[2:5])\n",
    "print(str2[2:])\n",
    "print(str2[2::2])\n",
    "print(str2[::2])\n",
    "print(str2[::-1])\n",
    "print(str2[-3:-1])\n",
    "print(str2[-1:-3])\n"
   ]
  },
  {
   "cell_type": "code",
   "execution_count": 35,
   "metadata": {},
   "outputs": [
    {
     "name": "stdout",
     "output_type": "stream",
     "text": [
      "25\n",
      "Hello,world! hello.world!\n",
      "Hello,World! Hello.World!\n",
      "HELLO,WORLD! HELLO.WORLD!\n",
      "hello,world! hello.world!\n",
      "2\n",
      "-1\n",
      "False\n",
      "True\n",
      "True\n",
      "************hello,world! hello.world!*************\n",
      "*************************hello,world! hello.world!\n",
      "False\n",
      "False\n",
      "True\n",
      "  jackfrued@126.com \n",
      "jackfrued@126.com\n"
     ]
    }
   ],
   "source": [
    "str1=\"hello,world! hello.world!\"\n",
    "print(len(str1))\n",
    "print(str1.capitalize())\n",
    "print(str1.title())\n",
    "print(str1.upper())\n",
    "print(str1.lower())\n",
    "print(str1.find(\"ll\"))\n",
    "print(str1.find(\"ac\"))\n",
    "print(str1.startswith('He'))\n",
    "print(str1.startswith('hel'))\n",
    "print(str1.endswith('!')) \n",
    "# 将字符串以指定的宽度居中并在两侧填充指定的字符\n",
    "print(str1.center(50,\"*\"))\n",
    "# 将字符串以指定的宽度靠右放置左侧填充指定的字符\n",
    "print(str1.rjust(50,\"*\"))\n",
    "str2 = 'abc123456'\n",
    "# 检查字符串是否由数字构成\n",
    "print(str2.isdigit())  # False\n",
    "# 检查字符串是否以字母构成\n",
    "print(str2.isalpha())  # False\n",
    "# 检查字符串是否以数字和字母构成\n",
    "print(str2.isalnum())  # True\n",
    "str3 = '  jackfrued@126.com '\n",
    "print(str3)\n",
    "# 获得字符串修剪左右两侧空格之后的拷贝\n",
    "print(str3.strip())"
   ]
  },
  {
   "cell_type": "markdown",
   "metadata": {},
   "source": [
    "### 字符串占位符"
   ]
  },
  {
   "cell_type": "code",
   "execution_count": 39,
   "metadata": {},
   "outputs": [
    {
     "name": "stdout",
     "output_type": "stream",
     "text": [
      "4 + 5 = 9\n",
      "4 + 5 = 9\n",
      "4 + 5 = 9\n"
     ]
    }
   ],
   "source": [
    "a,b=4,5\n",
    "print(\"%d + %d = %d\" % (a,b,a+b))\n",
    "print(\"{0} + {1} = {2}\".format(a,b,a+b))\n",
    "#Python 3.6以后的写法\n",
    "print(f\"{a} + {b} = {a+b}\")"
   ]
  },
  {
   "cell_type": "markdown",
   "metadata": {},
   "source": [
    "### List使用"
   ]
  },
  {
   "cell_type": "code",
   "execution_count": 56,
   "metadata": {},
   "outputs": [
    {
     "name": "stdout",
     "output_type": "stream",
     "text": [
      "[2, 45, 654, 334, 634, 342, 55]\n",
      "['hello', 'hello', 'hello']\n",
      "7 3\n",
      "2 55\n",
      "[654, 334]\n",
      "55 634\n",
      "[2, 45, 9, 334, 634, 342, 55]\n",
      "2\n",
      "45\n",
      "9\n",
      "334\n",
      "634\n",
      "342\n",
      "55\n",
      "2\n",
      "45\n",
      "9\n",
      "334\n",
      "634\n",
      "342\n",
      "55\n",
      "0 2\n",
      "1 45\n",
      "2 9\n",
      "3 334\n",
      "4 634\n",
      "5 342\n",
      "6 55\n"
     ]
    }
   ],
   "source": [
    "list1=[2,45,654,334,634,342,55]\n",
    "print(list1)\n",
    "list2=[\"hello\"] *3\n",
    "print(list2)\n",
    "print(len(list1),len(list2))\n",
    "print(list1[0],list1[6])\n",
    "print(list1[2:4])\n",
    "print(list1[-1],list1[-3])\n",
    "list1[2]=9\n",
    "print(list1)\n",
    "for index in range(len(list1)):\n",
    "    print(list1[index])\n",
    "for item in list1:\n",
    "    print(item)\n",
    "for index,elem in enumerate(list1):\n",
    "    print(index,elem)\n",
    "\n"
   ]
  },
  {
   "cell_type": "markdown",
   "metadata": {},
   "source": [
    "### List操作"
   ]
  },
  {
   "cell_type": "code",
   "execution_count": 67,
   "metadata": {},
   "outputs": [
    {
     "name": "stdout",
     "output_type": "stream",
     "text": [
      "[1, 3, 5, 7, 9]\n",
      "[1, 3, 5, 7, 9, 20]\n",
      "[1, 400, 3, 5, 7, 9, 20]\n",
      "[3, 4, 99]\n",
      "[1, 400, 3, 5, 7, 9, 20, 3, 4, 99]\n",
      "[1, 400, 5, 7, 9, 20, 3, 4, 99]\n",
      "[1, 400, 5, 7, 9, 20, 3, 4]\n",
      "[400, 5, 7, 9, 20, 3, 4]\n",
      "[]\n"
     ]
    }
   ],
   "source": [
    "list1=[1,3,5,7,9]\n",
    "print(list1)\n",
    "list1.append(20)\n",
    "print(list1)\n",
    "list1.insert(1,400)\n",
    "print(list1)\n",
    "list2=[3,4,99]\n",
    "print(list2)\n",
    "list3=list1+list2\n",
    "print(list3)\n",
    "if 3 in list3:\n",
    "    list3.remove(3)\n",
    "if 444 in list3:\n",
    "    list3.remove(444)\n",
    "print(list3)\n",
    "list3.pop()\n",
    "print(list3)\n",
    "list3.pop(0)\n",
    "print(list3)\n",
    "list3.clear()\n",
    "print(list3)\n"
   ]
  },
  {
   "cell_type": "markdown",
   "metadata": {},
   "source": [
    "### List切片"
   ]
  },
  {
   "cell_type": "code",
   "execution_count": 73,
   "metadata": {},
   "outputs": [
    {
     "name": "stdout",
     "output_type": "stream",
     "text": [
      "['apple', 'strawberry', 'waxberry']\n",
      "['grape', 'apple', 'strawberry', 'waxberry', 'pitaya', 'pear', 'mango']\n",
      "['pitaya', 'pear']\n",
      "['mango', 'pear', 'pitaya', 'waxberry', 'strawberry', 'apple', 'grape']\n"
     ]
    }
   ],
   "source": [
    "fruits = ['grape', 'apple', 'strawberry', 'waxberry']\n",
    "fruits += ['pitaya', 'pear', 'mango']\n",
    "# 列表切片\n",
    "fruits2 = fruits[1:4]\n",
    "print(fruits2) \n",
    "# 可以通过完整切片操作来复制列表\n",
    "fruits3 = fruits[:]\n",
    "print(fruits3) # ['grape', 'apple', 'strawberry', 'waxberry', 'pitaya', 'pear', 'mango']\n",
    "fruits4 = fruits[-3:-1]\n",
    "print(fruits4) # ['pitaya', 'pear']\n",
    "# 可以通过反向切片操作来获得倒转后的列表的拷贝\n",
    "fruits5 = fruits[::-1]\n",
    "print(fruits5) # ['mango', 'pear', 'pitaya', 'waxberry', 'strawberry', 'apple', 'grape']"
   ]
  },
  {
   "cell_type": "markdown",
   "metadata": {},
   "source": [
    "### List排序"
   ]
  }
 ],
 "metadata": {
  "kernelspec": {
   "display_name": "Python 3",
   "language": "python",
   "name": "python3"
  },
  "language_info": {
   "codemirror_mode": {
    "name": "ipython",
    "version": 3
   },
   "file_extension": ".py",
   "mimetype": "text/x-python",
   "name": "python",
   "nbconvert_exporter": "python",
   "pygments_lexer": "ipython3",
   "version": "3.8.5"
  },
  "toc": {
   "base_numbering": 1,
   "nav_menu": {},
   "number_sections": true,
   "sideBar": true,
   "skip_h1_title": false,
   "title_cell": "Table of Contents",
   "title_sidebar": "Contents",
   "toc_cell": false,
   "toc_position": {},
   "toc_section_display": true,
   "toc_window_display": false
  }
 },
 "nbformat": 4,
 "nbformat_minor": 4
}
